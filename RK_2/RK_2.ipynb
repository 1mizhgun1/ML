{
  "nbformat": 4,
  "nbformat_minor": 0,
  "metadata": {
    "colab": {
      "provenance": []
    },
    "kernelspec": {
      "name": "python3",
      "display_name": "Python 3"
    },
    "language_info": {
      "name": "python"
    }
  },
  "cells": [
    {
      "cell_type": "markdown",
      "source": [
        "# РК-2\n",
        "## Технологии Машинного Обучения\n",
        "Угрюмов Михаил Андреевич, ИУ5-64Б, Вариант 18\n",
        "\n",
        "## Задание\n",
        "Для заданного набора данных постройте модели классификации или регрессии. Для построения моделей используйте методы:\n",
        "- линейная/логистическая регрессия\n",
        "- градиентный бустинг\n",
        "\n",
        "Оцените качество моделей на основе подходящих метрик качества (не менее двух метрик). Какие метрики качества Вы использовали и почему? Какие выводы Вы можете сделать о качестве построенных моделей? Для построения моделей необходимо выполнить требуемую предобработку данных: заполнение пропусков, кодирование категориальных признаков, и т.д."
      ],
      "metadata": {
        "id": "2m9UdpWSSkvk"
      }
    },
    {
      "cell_type": "markdown",
      "source": [
        "### **Загрузка датасета**"
      ],
      "metadata": {
        "id": "V69NrEPLTN4q"
      }
    },
    {
      "cell_type": "code",
      "source": [
        "import pandas as pd\n",
        "import matplotlib.pyplot as plt\n",
        "from sklearn.preprocessing import StandardScaler, LabelEncoder, OneHotEncoder\n",
        "%matplotlib inline\n",
        "\n",
        "df = pd.read_csv('HRDataset_v14.csv')"
      ],
      "metadata": {
        "id": "nRTp2I3PTDxq"
      },
      "execution_count": 114,
      "outputs": []
    },
    {
      "cell_type": "code",
      "source": [
        "df.info()"
      ],
      "metadata": {
        "colab": {
          "base_uri": "https://localhost:8080/"
        },
        "id": "8kE98kbiWfKD",
        "outputId": "a5ba015d-6c65-4d84-b9ff-717ad087b327"
      },
      "execution_count": 115,
      "outputs": [
        {
          "output_type": "stream",
          "name": "stdout",
          "text": [
            "<class 'pandas.core.frame.DataFrame'>\n",
            "RangeIndex: 311 entries, 0 to 310\n",
            "Data columns (total 36 columns):\n",
            " #   Column                      Non-Null Count  Dtype  \n",
            "---  ------                      --------------  -----  \n",
            " 0   Employee_Name               311 non-null    object \n",
            " 1   EmpID                       311 non-null    int64  \n",
            " 2   MarriedID                   311 non-null    int64  \n",
            " 3   MaritalStatusID             311 non-null    int64  \n",
            " 4   GenderID                    311 non-null    int64  \n",
            " 5   EmpStatusID                 311 non-null    int64  \n",
            " 6   DeptID                      311 non-null    int64  \n",
            " 7   PerfScoreID                 311 non-null    int64  \n",
            " 8   FromDiversityJobFairID      311 non-null    int64  \n",
            " 9   Salary                      311 non-null    int64  \n",
            " 10  Termd                       311 non-null    int64  \n",
            " 11  PositionID                  311 non-null    int64  \n",
            " 12  Position                    311 non-null    object \n",
            " 13  State                       311 non-null    object \n",
            " 14  Zip                         311 non-null    int64  \n",
            " 15  DOB                         311 non-null    object \n",
            " 16  Sex                         311 non-null    object \n",
            " 17  MaritalDesc                 311 non-null    object \n",
            " 18  CitizenDesc                 311 non-null    object \n",
            " 19  HispanicLatino              311 non-null    object \n",
            " 20  RaceDesc                    311 non-null    object \n",
            " 21  DateofHire                  311 non-null    object \n",
            " 22  DateofTermination           104 non-null    object \n",
            " 23  TermReason                  311 non-null    object \n",
            " 24  EmploymentStatus            311 non-null    object \n",
            " 25  Department                  311 non-null    object \n",
            " 26  ManagerName                 311 non-null    object \n",
            " 27  ManagerID                   303 non-null    float64\n",
            " 28  RecruitmentSource           311 non-null    object \n",
            " 29  PerformanceScore            311 non-null    object \n",
            " 30  EngagementSurvey            311 non-null    float64\n",
            " 31  EmpSatisfaction             311 non-null    int64  \n",
            " 32  SpecialProjectsCount        311 non-null    int64  \n",
            " 33  LastPerformanceReview_Date  311 non-null    object \n",
            " 34  DaysLateLast30              311 non-null    int64  \n",
            " 35  Absences                    311 non-null    int64  \n",
            "dtypes: float64(2), int64(16), object(18)\n",
            "memory usage: 87.6+ KB\n"
          ]
        }
      ]
    },
    {
      "cell_type": "code",
      "source": [
        "df.head().T"
      ],
      "metadata": {
        "colab": {
          "base_uri": "https://localhost:8080/",
          "height": 1000
        },
        "id": "vQEWyl8MWlHW",
        "outputId": "746c57c2-bb40-42a9-98b4-b04a0ee99faf"
      },
      "execution_count": 116,
      "outputs": [
        {
          "output_type": "execute_result",
          "data": {
            "text/plain": [
              "                                                  0                         1  \\\n",
              "Employee_Name                   Adinolfi, Wilson  K  Ait Sidi, Karthikeyan      \n",
              "EmpID                                         10026                     10084   \n",
              "MarriedID                                         0                         1   \n",
              "MaritalStatusID                                   0                         1   \n",
              "GenderID                                          1                         1   \n",
              "EmpStatusID                                       1                         5   \n",
              "DeptID                                            5                         3   \n",
              "PerfScoreID                                       4                         3   \n",
              "FromDiversityJobFairID                            0                         0   \n",
              "Salary                                        62506                    104437   \n",
              "Termd                                             0                         1   \n",
              "PositionID                                       19                        27   \n",
              "Position                    Production Technician I                   Sr. DBA   \n",
              "State                                            MA                        MA   \n",
              "Zip                                            1960                      2148   \n",
              "DOB                                        07/10/83                  05/05/75   \n",
              "Sex                                              M                         M    \n",
              "MaritalDesc                                  Single                   Married   \n",
              "CitizenDesc                              US Citizen                US Citizen   \n",
              "HispanicLatino                                   No                        No   \n",
              "RaceDesc                                      White                     White   \n",
              "DateofHire                                 7/5/2011                 3/30/2015   \n",
              "DateofTermination                               NaN                 6/16/2016   \n",
              "TermReason                        N/A-StillEmployed             career change   \n",
              "EmploymentStatus                             Active    Voluntarily Terminated   \n",
              "Department                        Production                            IT/IS   \n",
              "ManagerName                          Michael Albert                Simon Roup   \n",
              "ManagerID                                      22.0                       4.0   \n",
              "RecruitmentSource                          LinkedIn                    Indeed   \n",
              "PerformanceScore                            Exceeds               Fully Meets   \n",
              "EngagementSurvey                                4.6                      4.96   \n",
              "EmpSatisfaction                                   5                         3   \n",
              "SpecialProjectsCount                              0                         6   \n",
              "LastPerformanceReview_Date                1/17/2019                 2/24/2016   \n",
              "DaysLateLast30                                    0                         0   \n",
              "Absences                                          1                        17   \n",
              "\n",
              "                                                   2                        3  \\\n",
              "Employee_Name                      Akinkuolie, Sarah             Alagbe,Trina   \n",
              "EmpID                                          10196                    10088   \n",
              "MarriedID                                          1                        1   \n",
              "MaritalStatusID                                    1                        1   \n",
              "GenderID                                           0                        0   \n",
              "EmpStatusID                                        5                        1   \n",
              "DeptID                                             5                        5   \n",
              "PerfScoreID                                        3                        3   \n",
              "FromDiversityJobFairID                             0                        0   \n",
              "Salary                                         64955                    64991   \n",
              "Termd                                              1                        0   \n",
              "PositionID                                        20                       19   \n",
              "Position                    Production Technician II  Production Technician I   \n",
              "State                                             MA                       MA   \n",
              "Zip                                             1810                     1886   \n",
              "DOB                                         09/19/88                 09/27/88   \n",
              "Sex                                                F                        F   \n",
              "MaritalDesc                                  Married                  Married   \n",
              "CitizenDesc                               US Citizen               US Citizen   \n",
              "HispanicLatino                                    No                       No   \n",
              "RaceDesc                                       White                    White   \n",
              "DateofHire                                  7/5/2011                 1/7/2008   \n",
              "DateofTermination                          9/24/2012                      NaN   \n",
              "TermReason                                     hours        N/A-StillEmployed   \n",
              "EmploymentStatus              Voluntarily Terminated                   Active   \n",
              "Department                         Production               Production          \n",
              "ManagerName                           Kissy Sullivan             Elijiah Gray   \n",
              "ManagerID                                       20.0                     16.0   \n",
              "RecruitmentSource                           LinkedIn                   Indeed   \n",
              "PerformanceScore                         Fully Meets              Fully Meets   \n",
              "EngagementSurvey                                3.02                     4.84   \n",
              "EmpSatisfaction                                    3                        5   \n",
              "SpecialProjectsCount                               0                        0   \n",
              "LastPerformanceReview_Date                 5/15/2012                 1/3/2019   \n",
              "DaysLateLast30                                     0                        0   \n",
              "Absences                                           3                       15   \n",
              "\n",
              "                                                  4  \n",
              "Employee_Name                      Anderson, Carol   \n",
              "EmpID                                         10069  \n",
              "MarriedID                                         0  \n",
              "MaritalStatusID                                   2  \n",
              "GenderID                                          0  \n",
              "EmpStatusID                                       5  \n",
              "DeptID                                            5  \n",
              "PerfScoreID                                       3  \n",
              "FromDiversityJobFairID                            0  \n",
              "Salary                                        50825  \n",
              "Termd                                             1  \n",
              "PositionID                                       19  \n",
              "Position                    Production Technician I  \n",
              "State                                            MA  \n",
              "Zip                                            2169  \n",
              "DOB                                        09/08/89  \n",
              "Sex                                               F  \n",
              "MaritalDesc                                Divorced  \n",
              "CitizenDesc                              US Citizen  \n",
              "HispanicLatino                                   No  \n",
              "RaceDesc                                      White  \n",
              "DateofHire                                7/11/2011  \n",
              "DateofTermination                          9/6/2016  \n",
              "TermReason                         return to school  \n",
              "EmploymentStatus             Voluntarily Terminated  \n",
              "Department                        Production         \n",
              "ManagerName                          Webster Butler  \n",
              "ManagerID                                      39.0  \n",
              "RecruitmentSource                     Google Search  \n",
              "PerformanceScore                        Fully Meets  \n",
              "EngagementSurvey                                5.0  \n",
              "EmpSatisfaction                                   4  \n",
              "SpecialProjectsCount                              0  \n",
              "LastPerformanceReview_Date                 2/1/2016  \n",
              "DaysLateLast30                                    0  \n",
              "Absences                                          2  "
            ],
            "text/html": [
              "\n",
              "  <div id=\"df-7737c59f-f67c-40a0-8d77-4a48255ff56c\" class=\"colab-df-container\">\n",
              "    <div>\n",
              "<style scoped>\n",
              "    .dataframe tbody tr th:only-of-type {\n",
              "        vertical-align: middle;\n",
              "    }\n",
              "\n",
              "    .dataframe tbody tr th {\n",
              "        vertical-align: top;\n",
              "    }\n",
              "\n",
              "    .dataframe thead th {\n",
              "        text-align: right;\n",
              "    }\n",
              "</style>\n",
              "<table border=\"1\" class=\"dataframe\">\n",
              "  <thead>\n",
              "    <tr style=\"text-align: right;\">\n",
              "      <th></th>\n",
              "      <th>0</th>\n",
              "      <th>1</th>\n",
              "      <th>2</th>\n",
              "      <th>3</th>\n",
              "      <th>4</th>\n",
              "    </tr>\n",
              "  </thead>\n",
              "  <tbody>\n",
              "    <tr>\n",
              "      <th>Employee_Name</th>\n",
              "      <td>Adinolfi, Wilson  K</td>\n",
              "      <td>Ait Sidi, Karthikeyan</td>\n",
              "      <td>Akinkuolie, Sarah</td>\n",
              "      <td>Alagbe,Trina</td>\n",
              "      <td>Anderson, Carol</td>\n",
              "    </tr>\n",
              "    <tr>\n",
              "      <th>EmpID</th>\n",
              "      <td>10026</td>\n",
              "      <td>10084</td>\n",
              "      <td>10196</td>\n",
              "      <td>10088</td>\n",
              "      <td>10069</td>\n",
              "    </tr>\n",
              "    <tr>\n",
              "      <th>MarriedID</th>\n",
              "      <td>0</td>\n",
              "      <td>1</td>\n",
              "      <td>1</td>\n",
              "      <td>1</td>\n",
              "      <td>0</td>\n",
              "    </tr>\n",
              "    <tr>\n",
              "      <th>MaritalStatusID</th>\n",
              "      <td>0</td>\n",
              "      <td>1</td>\n",
              "      <td>1</td>\n",
              "      <td>1</td>\n",
              "      <td>2</td>\n",
              "    </tr>\n",
              "    <tr>\n",
              "      <th>GenderID</th>\n",
              "      <td>1</td>\n",
              "      <td>1</td>\n",
              "      <td>0</td>\n",
              "      <td>0</td>\n",
              "      <td>0</td>\n",
              "    </tr>\n",
              "    <tr>\n",
              "      <th>EmpStatusID</th>\n",
              "      <td>1</td>\n",
              "      <td>5</td>\n",
              "      <td>5</td>\n",
              "      <td>1</td>\n",
              "      <td>5</td>\n",
              "    </tr>\n",
              "    <tr>\n",
              "      <th>DeptID</th>\n",
              "      <td>5</td>\n",
              "      <td>3</td>\n",
              "      <td>5</td>\n",
              "      <td>5</td>\n",
              "      <td>5</td>\n",
              "    </tr>\n",
              "    <tr>\n",
              "      <th>PerfScoreID</th>\n",
              "      <td>4</td>\n",
              "      <td>3</td>\n",
              "      <td>3</td>\n",
              "      <td>3</td>\n",
              "      <td>3</td>\n",
              "    </tr>\n",
              "    <tr>\n",
              "      <th>FromDiversityJobFairID</th>\n",
              "      <td>0</td>\n",
              "      <td>0</td>\n",
              "      <td>0</td>\n",
              "      <td>0</td>\n",
              "      <td>0</td>\n",
              "    </tr>\n",
              "    <tr>\n",
              "      <th>Salary</th>\n",
              "      <td>62506</td>\n",
              "      <td>104437</td>\n",
              "      <td>64955</td>\n",
              "      <td>64991</td>\n",
              "      <td>50825</td>\n",
              "    </tr>\n",
              "    <tr>\n",
              "      <th>Termd</th>\n",
              "      <td>0</td>\n",
              "      <td>1</td>\n",
              "      <td>1</td>\n",
              "      <td>0</td>\n",
              "      <td>1</td>\n",
              "    </tr>\n",
              "    <tr>\n",
              "      <th>PositionID</th>\n",
              "      <td>19</td>\n",
              "      <td>27</td>\n",
              "      <td>20</td>\n",
              "      <td>19</td>\n",
              "      <td>19</td>\n",
              "    </tr>\n",
              "    <tr>\n",
              "      <th>Position</th>\n",
              "      <td>Production Technician I</td>\n",
              "      <td>Sr. DBA</td>\n",
              "      <td>Production Technician II</td>\n",
              "      <td>Production Technician I</td>\n",
              "      <td>Production Technician I</td>\n",
              "    </tr>\n",
              "    <tr>\n",
              "      <th>State</th>\n",
              "      <td>MA</td>\n",
              "      <td>MA</td>\n",
              "      <td>MA</td>\n",
              "      <td>MA</td>\n",
              "      <td>MA</td>\n",
              "    </tr>\n",
              "    <tr>\n",
              "      <th>Zip</th>\n",
              "      <td>1960</td>\n",
              "      <td>2148</td>\n",
              "      <td>1810</td>\n",
              "      <td>1886</td>\n",
              "      <td>2169</td>\n",
              "    </tr>\n",
              "    <tr>\n",
              "      <th>DOB</th>\n",
              "      <td>07/10/83</td>\n",
              "      <td>05/05/75</td>\n",
              "      <td>09/19/88</td>\n",
              "      <td>09/27/88</td>\n",
              "      <td>09/08/89</td>\n",
              "    </tr>\n",
              "    <tr>\n",
              "      <th>Sex</th>\n",
              "      <td>M</td>\n",
              "      <td>M</td>\n",
              "      <td>F</td>\n",
              "      <td>F</td>\n",
              "      <td>F</td>\n",
              "    </tr>\n",
              "    <tr>\n",
              "      <th>MaritalDesc</th>\n",
              "      <td>Single</td>\n",
              "      <td>Married</td>\n",
              "      <td>Married</td>\n",
              "      <td>Married</td>\n",
              "      <td>Divorced</td>\n",
              "    </tr>\n",
              "    <tr>\n",
              "      <th>CitizenDesc</th>\n",
              "      <td>US Citizen</td>\n",
              "      <td>US Citizen</td>\n",
              "      <td>US Citizen</td>\n",
              "      <td>US Citizen</td>\n",
              "      <td>US Citizen</td>\n",
              "    </tr>\n",
              "    <tr>\n",
              "      <th>HispanicLatino</th>\n",
              "      <td>No</td>\n",
              "      <td>No</td>\n",
              "      <td>No</td>\n",
              "      <td>No</td>\n",
              "      <td>No</td>\n",
              "    </tr>\n",
              "    <tr>\n",
              "      <th>RaceDesc</th>\n",
              "      <td>White</td>\n",
              "      <td>White</td>\n",
              "      <td>White</td>\n",
              "      <td>White</td>\n",
              "      <td>White</td>\n",
              "    </tr>\n",
              "    <tr>\n",
              "      <th>DateofHire</th>\n",
              "      <td>7/5/2011</td>\n",
              "      <td>3/30/2015</td>\n",
              "      <td>7/5/2011</td>\n",
              "      <td>1/7/2008</td>\n",
              "      <td>7/11/2011</td>\n",
              "    </tr>\n",
              "    <tr>\n",
              "      <th>DateofTermination</th>\n",
              "      <td>NaN</td>\n",
              "      <td>6/16/2016</td>\n",
              "      <td>9/24/2012</td>\n",
              "      <td>NaN</td>\n",
              "      <td>9/6/2016</td>\n",
              "    </tr>\n",
              "    <tr>\n",
              "      <th>TermReason</th>\n",
              "      <td>N/A-StillEmployed</td>\n",
              "      <td>career change</td>\n",
              "      <td>hours</td>\n",
              "      <td>N/A-StillEmployed</td>\n",
              "      <td>return to school</td>\n",
              "    </tr>\n",
              "    <tr>\n",
              "      <th>EmploymentStatus</th>\n",
              "      <td>Active</td>\n",
              "      <td>Voluntarily Terminated</td>\n",
              "      <td>Voluntarily Terminated</td>\n",
              "      <td>Active</td>\n",
              "      <td>Voluntarily Terminated</td>\n",
              "    </tr>\n",
              "    <tr>\n",
              "      <th>Department</th>\n",
              "      <td>Production</td>\n",
              "      <td>IT/IS</td>\n",
              "      <td>Production</td>\n",
              "      <td>Production</td>\n",
              "      <td>Production</td>\n",
              "    </tr>\n",
              "    <tr>\n",
              "      <th>ManagerName</th>\n",
              "      <td>Michael Albert</td>\n",
              "      <td>Simon Roup</td>\n",
              "      <td>Kissy Sullivan</td>\n",
              "      <td>Elijiah Gray</td>\n",
              "      <td>Webster Butler</td>\n",
              "    </tr>\n",
              "    <tr>\n",
              "      <th>ManagerID</th>\n",
              "      <td>22.0</td>\n",
              "      <td>4.0</td>\n",
              "      <td>20.0</td>\n",
              "      <td>16.0</td>\n",
              "      <td>39.0</td>\n",
              "    </tr>\n",
              "    <tr>\n",
              "      <th>RecruitmentSource</th>\n",
              "      <td>LinkedIn</td>\n",
              "      <td>Indeed</td>\n",
              "      <td>LinkedIn</td>\n",
              "      <td>Indeed</td>\n",
              "      <td>Google Search</td>\n",
              "    </tr>\n",
              "    <tr>\n",
              "      <th>PerformanceScore</th>\n",
              "      <td>Exceeds</td>\n",
              "      <td>Fully Meets</td>\n",
              "      <td>Fully Meets</td>\n",
              "      <td>Fully Meets</td>\n",
              "      <td>Fully Meets</td>\n",
              "    </tr>\n",
              "    <tr>\n",
              "      <th>EngagementSurvey</th>\n",
              "      <td>4.6</td>\n",
              "      <td>4.96</td>\n",
              "      <td>3.02</td>\n",
              "      <td>4.84</td>\n",
              "      <td>5.0</td>\n",
              "    </tr>\n",
              "    <tr>\n",
              "      <th>EmpSatisfaction</th>\n",
              "      <td>5</td>\n",
              "      <td>3</td>\n",
              "      <td>3</td>\n",
              "      <td>5</td>\n",
              "      <td>4</td>\n",
              "    </tr>\n",
              "    <tr>\n",
              "      <th>SpecialProjectsCount</th>\n",
              "      <td>0</td>\n",
              "      <td>6</td>\n",
              "      <td>0</td>\n",
              "      <td>0</td>\n",
              "      <td>0</td>\n",
              "    </tr>\n",
              "    <tr>\n",
              "      <th>LastPerformanceReview_Date</th>\n",
              "      <td>1/17/2019</td>\n",
              "      <td>2/24/2016</td>\n",
              "      <td>5/15/2012</td>\n",
              "      <td>1/3/2019</td>\n",
              "      <td>2/1/2016</td>\n",
              "    </tr>\n",
              "    <tr>\n",
              "      <th>DaysLateLast30</th>\n",
              "      <td>0</td>\n",
              "      <td>0</td>\n",
              "      <td>0</td>\n",
              "      <td>0</td>\n",
              "      <td>0</td>\n",
              "    </tr>\n",
              "    <tr>\n",
              "      <th>Absences</th>\n",
              "      <td>1</td>\n",
              "      <td>17</td>\n",
              "      <td>3</td>\n",
              "      <td>15</td>\n",
              "      <td>2</td>\n",
              "    </tr>\n",
              "  </tbody>\n",
              "</table>\n",
              "</div>\n",
              "    <div class=\"colab-df-buttons\">\n",
              "\n",
              "  <div class=\"colab-df-container\">\n",
              "    <button class=\"colab-df-convert\" onclick=\"convertToInteractive('df-7737c59f-f67c-40a0-8d77-4a48255ff56c')\"\n",
              "            title=\"Convert this dataframe to an interactive table.\"\n",
              "            style=\"display:none;\">\n",
              "\n",
              "  <svg xmlns=\"http://www.w3.org/2000/svg\" height=\"24px\" viewBox=\"0 -960 960 960\">\n",
              "    <path d=\"M120-120v-720h720v720H120Zm60-500h600v-160H180v160Zm220 220h160v-160H400v160Zm0 220h160v-160H400v160ZM180-400h160v-160H180v160Zm440 0h160v-160H620v160ZM180-180h160v-160H180v160Zm440 0h160v-160H620v160Z\"/>\n",
              "  </svg>\n",
              "    </button>\n",
              "\n",
              "  <style>\n",
              "    .colab-df-container {\n",
              "      display:flex;\n",
              "      gap: 12px;\n",
              "    }\n",
              "\n",
              "    .colab-df-convert {\n",
              "      background-color: #E8F0FE;\n",
              "      border: none;\n",
              "      border-radius: 50%;\n",
              "      cursor: pointer;\n",
              "      display: none;\n",
              "      fill: #1967D2;\n",
              "      height: 32px;\n",
              "      padding: 0 0 0 0;\n",
              "      width: 32px;\n",
              "    }\n",
              "\n",
              "    .colab-df-convert:hover {\n",
              "      background-color: #E2EBFA;\n",
              "      box-shadow: 0px 1px 2px rgba(60, 64, 67, 0.3), 0px 1px 3px 1px rgba(60, 64, 67, 0.15);\n",
              "      fill: #174EA6;\n",
              "    }\n",
              "\n",
              "    .colab-df-buttons div {\n",
              "      margin-bottom: 4px;\n",
              "    }\n",
              "\n",
              "    [theme=dark] .colab-df-convert {\n",
              "      background-color: #3B4455;\n",
              "      fill: #D2E3FC;\n",
              "    }\n",
              "\n",
              "    [theme=dark] .colab-df-convert:hover {\n",
              "      background-color: #434B5C;\n",
              "      box-shadow: 0px 1px 3px 1px rgba(0, 0, 0, 0.15);\n",
              "      filter: drop-shadow(0px 1px 2px rgba(0, 0, 0, 0.3));\n",
              "      fill: #FFFFFF;\n",
              "    }\n",
              "  </style>\n",
              "\n",
              "    <script>\n",
              "      const buttonEl =\n",
              "        document.querySelector('#df-7737c59f-f67c-40a0-8d77-4a48255ff56c button.colab-df-convert');\n",
              "      buttonEl.style.display =\n",
              "        google.colab.kernel.accessAllowed ? 'block' : 'none';\n",
              "\n",
              "      async function convertToInteractive(key) {\n",
              "        const element = document.querySelector('#df-7737c59f-f67c-40a0-8d77-4a48255ff56c');\n",
              "        const dataTable =\n",
              "          await google.colab.kernel.invokeFunction('convertToInteractive',\n",
              "                                                    [key], {});\n",
              "        if (!dataTable) return;\n",
              "\n",
              "        const docLinkHtml = 'Like what you see? Visit the ' +\n",
              "          '<a target=\"_blank\" href=https://colab.research.google.com/notebooks/data_table.ipynb>data table notebook</a>'\n",
              "          + ' to learn more about interactive tables.';\n",
              "        element.innerHTML = '';\n",
              "        dataTable['output_type'] = 'display_data';\n",
              "        await google.colab.output.renderOutput(dataTable, element);\n",
              "        const docLink = document.createElement('div');\n",
              "        docLink.innerHTML = docLinkHtml;\n",
              "        element.appendChild(docLink);\n",
              "      }\n",
              "    </script>\n",
              "  </div>\n",
              "\n",
              "\n",
              "<div id=\"df-3f23e95c-2bc7-40df-b19d-b066abfbf2cd\">\n",
              "  <button class=\"colab-df-quickchart\" onclick=\"quickchart('df-3f23e95c-2bc7-40df-b19d-b066abfbf2cd')\"\n",
              "            title=\"Suggest charts\"\n",
              "            style=\"display:none;\">\n",
              "\n",
              "<svg xmlns=\"http://www.w3.org/2000/svg\" height=\"24px\"viewBox=\"0 0 24 24\"\n",
              "     width=\"24px\">\n",
              "    <g>\n",
              "        <path d=\"M19 3H5c-1.1 0-2 .9-2 2v14c0 1.1.9 2 2 2h14c1.1 0 2-.9 2-2V5c0-1.1-.9-2-2-2zM9 17H7v-7h2v7zm4 0h-2V7h2v10zm4 0h-2v-4h2v4z\"/>\n",
              "    </g>\n",
              "</svg>\n",
              "  </button>\n",
              "\n",
              "<style>\n",
              "  .colab-df-quickchart {\n",
              "      --bg-color: #E8F0FE;\n",
              "      --fill-color: #1967D2;\n",
              "      --hover-bg-color: #E2EBFA;\n",
              "      --hover-fill-color: #174EA6;\n",
              "      --disabled-fill-color: #AAA;\n",
              "      --disabled-bg-color: #DDD;\n",
              "  }\n",
              "\n",
              "  [theme=dark] .colab-df-quickchart {\n",
              "      --bg-color: #3B4455;\n",
              "      --fill-color: #D2E3FC;\n",
              "      --hover-bg-color: #434B5C;\n",
              "      --hover-fill-color: #FFFFFF;\n",
              "      --disabled-bg-color: #3B4455;\n",
              "      --disabled-fill-color: #666;\n",
              "  }\n",
              "\n",
              "  .colab-df-quickchart {\n",
              "    background-color: var(--bg-color);\n",
              "    border: none;\n",
              "    border-radius: 50%;\n",
              "    cursor: pointer;\n",
              "    display: none;\n",
              "    fill: var(--fill-color);\n",
              "    height: 32px;\n",
              "    padding: 0;\n",
              "    width: 32px;\n",
              "  }\n",
              "\n",
              "  .colab-df-quickchart:hover {\n",
              "    background-color: var(--hover-bg-color);\n",
              "    box-shadow: 0 1px 2px rgba(60, 64, 67, 0.3), 0 1px 3px 1px rgba(60, 64, 67, 0.15);\n",
              "    fill: var(--button-hover-fill-color);\n",
              "  }\n",
              "\n",
              "  .colab-df-quickchart-complete:disabled,\n",
              "  .colab-df-quickchart-complete:disabled:hover {\n",
              "    background-color: var(--disabled-bg-color);\n",
              "    fill: var(--disabled-fill-color);\n",
              "    box-shadow: none;\n",
              "  }\n",
              "\n",
              "  .colab-df-spinner {\n",
              "    border: 2px solid var(--fill-color);\n",
              "    border-color: transparent;\n",
              "    border-bottom-color: var(--fill-color);\n",
              "    animation:\n",
              "      spin 1s steps(1) infinite;\n",
              "  }\n",
              "\n",
              "  @keyframes spin {\n",
              "    0% {\n",
              "      border-color: transparent;\n",
              "      border-bottom-color: var(--fill-color);\n",
              "      border-left-color: var(--fill-color);\n",
              "    }\n",
              "    20% {\n",
              "      border-color: transparent;\n",
              "      border-left-color: var(--fill-color);\n",
              "      border-top-color: var(--fill-color);\n",
              "    }\n",
              "    30% {\n",
              "      border-color: transparent;\n",
              "      border-left-color: var(--fill-color);\n",
              "      border-top-color: var(--fill-color);\n",
              "      border-right-color: var(--fill-color);\n",
              "    }\n",
              "    40% {\n",
              "      border-color: transparent;\n",
              "      border-right-color: var(--fill-color);\n",
              "      border-top-color: var(--fill-color);\n",
              "    }\n",
              "    60% {\n",
              "      border-color: transparent;\n",
              "      border-right-color: var(--fill-color);\n",
              "    }\n",
              "    80% {\n",
              "      border-color: transparent;\n",
              "      border-right-color: var(--fill-color);\n",
              "      border-bottom-color: var(--fill-color);\n",
              "    }\n",
              "    90% {\n",
              "      border-color: transparent;\n",
              "      border-bottom-color: var(--fill-color);\n",
              "    }\n",
              "  }\n",
              "</style>\n",
              "\n",
              "  <script>\n",
              "    async function quickchart(key) {\n",
              "      const quickchartButtonEl =\n",
              "        document.querySelector('#' + key + ' button');\n",
              "      quickchartButtonEl.disabled = true;  // To prevent multiple clicks.\n",
              "      quickchartButtonEl.classList.add('colab-df-spinner');\n",
              "      try {\n",
              "        const charts = await google.colab.kernel.invokeFunction(\n",
              "            'suggestCharts', [key], {});\n",
              "      } catch (error) {\n",
              "        console.error('Error during call to suggestCharts:', error);\n",
              "      }\n",
              "      quickchartButtonEl.classList.remove('colab-df-spinner');\n",
              "      quickchartButtonEl.classList.add('colab-df-quickchart-complete');\n",
              "    }\n",
              "    (() => {\n",
              "      let quickchartButtonEl =\n",
              "        document.querySelector('#df-3f23e95c-2bc7-40df-b19d-b066abfbf2cd button');\n",
              "      quickchartButtonEl.style.display =\n",
              "        google.colab.kernel.accessAllowed ? 'block' : 'none';\n",
              "    })();\n",
              "  </script>\n",
              "</div>\n",
              "    </div>\n",
              "  </div>\n"
            ],
            "application/vnd.google.colaboratory.intrinsic+json": {
              "type": "dataframe",
              "variable_name": "df"
            }
          },
          "metadata": {},
          "execution_count": 116
        }
      ]
    },
    {
      "cell_type": "markdown",
      "source": [
        "Буду решать задачу классификации статуса сотрудника - EmploymentStatus."
      ],
      "metadata": {
        "id": "qktMyaQbaZFP"
      }
    },
    {
      "cell_type": "markdown",
      "source": [
        "### **Подготовка датасета**"
      ],
      "metadata": {
        "id": "5Ew1PykrZIu7"
      }
    },
    {
      "cell_type": "code",
      "source": [
        "# удаление ненужных столбцов\n",
        "# столбец \"Sex\" можно убрать, так как есть \"GenderID\"\n",
        "# столбец \"MaritalDesc\" можно убрать, так как есть \"MartialStatus\"\n",
        "df = df.drop(columns=[\"Employee_Name\", \"EmpID\", \"DOB\", \"Zip\", \"Termd\", \"TermReason\", \"ManagerName\", \"ManagerID\", \"DaysLateLast30\", \"DateofTermination\", \"Sex\", \"MaritalDesc\", \"DateofHire\", \"LastPerformanceReview_Date\"])"
      ],
      "metadata": {
        "id": "fOUTT24yZMgq"
      },
      "execution_count": 117,
      "outputs": []
    },
    {
      "cell_type": "code",
      "source": [
        "df[\"EmploymentStatus\"].unique()"
      ],
      "metadata": {
        "colab": {
          "base_uri": "https://localhost:8080/"
        },
        "id": "1dXSClFfcxOx",
        "outputId": "2bc8c695-52d3-45bd-a9e6-744df32029cb"
      },
      "execution_count": 118,
      "outputs": [
        {
          "output_type": "execute_result",
          "data": {
            "text/plain": [
              "array(['Active', 'Voluntarily Terminated', 'Terminated for Cause'],\n",
              "      dtype=object)"
            ]
          },
          "metadata": {},
          "execution_count": 118
        }
      ]
    },
    {
      "cell_type": "code",
      "source": [
        "# кодирование категориальных признаков\n",
        "\n",
        "from sklearn.preprocessing import LabelEncoder\n",
        "\n",
        "le = LabelEncoder()\n",
        "\n",
        "df[\"EmploymentStatus\"] = le.fit_transform(df[\"EmploymentStatus\"])\n",
        "df[\"Position\"] = le.fit_transform(df[\"Position\"])\n",
        "df[\"State\"] = le.fit_transform(df[\"State\"])\n",
        "df[\"CitizenDesc\"] = le.fit_transform(df[\"CitizenDesc\"])\n",
        "df[\"HispanicLatino\"] = le.fit_transform(df[\"HispanicLatino\"])\n",
        "df[\"RaceDesc\"] = le.fit_transform(df[\"RaceDesc\"])\n",
        "df[\"Department\"] = le.fit_transform(df[\"Department\"])\n",
        "df[\"RecruitmentSource\"] = le.fit_transform(df[\"RecruitmentSource\"])\n",
        "df[\"PerformanceScore\"] = le.fit_transform(df[\"PerformanceScore\"])"
      ],
      "metadata": {
        "id": "XkMcOCvEcNag"
      },
      "execution_count": 119,
      "outputs": []
    },
    {
      "cell_type": "markdown",
      "source": [
        "### **Разделение выборки на обучающую и тестовую**"
      ],
      "metadata": {
        "id": "vmayX4zbbFyY"
      }
    },
    {
      "cell_type": "code",
      "source": [
        "from sklearn.model_selection import train_test_split\n",
        "\n",
        "train, test = train_test_split(df, test_size=0.2, random_state=42)\n",
        "\n",
        "print(\"Train size:\", len(train))\n",
        "print(\"Test size:\", len(test))"
      ],
      "metadata": {
        "colab": {
          "base_uri": "https://localhost:8080/"
        },
        "id": "xc8rABP6Zrki",
        "outputId": "7ca7c5da-bd34-41ec-e2dc-b54f0d2d32c4"
      },
      "execution_count": 120,
      "outputs": [
        {
          "output_type": "stream",
          "name": "stdout",
          "text": [
            "Train size: 248\n",
            "Test size: 63\n"
          ]
        }
      ]
    },
    {
      "cell_type": "code",
      "source": [
        "X_train = train.drop('EmploymentStatus', axis=1)\n",
        "y_train = train['EmploymentStatus']\n",
        "X_test = test.drop('EmploymentStatus', axis=1)\n",
        "y_test = test['EmploymentStatus']"
      ],
      "metadata": {
        "id": "l68lMt4hbRl9"
      },
      "execution_count": 121,
      "outputs": []
    },
    {
      "cell_type": "markdown",
      "source": [
        "### **Обучение моделей**"
      ],
      "metadata": {
        "id": "v7iuGAsVblVV"
      }
    },
    {
      "cell_type": "code",
      "source": [
        "from sklearn.linear_model import LogisticRegression\n",
        "\n",
        "logistic_regression_model = LogisticRegression(max_iter=10000)\n",
        "logistic_regression_model.fit(X_train, y_train)"
      ],
      "metadata": {
        "colab": {
          "base_uri": "https://localhost:8080/",
          "height": 74
        },
        "id": "4UlZFijHbkZ6",
        "outputId": "8a31bf45-38e0-4b65-b25a-9fa5695ca2ef"
      },
      "execution_count": 122,
      "outputs": [
        {
          "output_type": "execute_result",
          "data": {
            "text/plain": [
              "LogisticRegression(max_iter=10000)"
            ],
            "text/html": [
              "<style>#sk-container-id-10 {color: black;background-color: white;}#sk-container-id-10 pre{padding: 0;}#sk-container-id-10 div.sk-toggleable {background-color: white;}#sk-container-id-10 label.sk-toggleable__label {cursor: pointer;display: block;width: 100%;margin-bottom: 0;padding: 0.3em;box-sizing: border-box;text-align: center;}#sk-container-id-10 label.sk-toggleable__label-arrow:before {content: \"▸\";float: left;margin-right: 0.25em;color: #696969;}#sk-container-id-10 label.sk-toggleable__label-arrow:hover:before {color: black;}#sk-container-id-10 div.sk-estimator:hover label.sk-toggleable__label-arrow:before {color: black;}#sk-container-id-10 div.sk-toggleable__content {max-height: 0;max-width: 0;overflow: hidden;text-align: left;background-color: #f0f8ff;}#sk-container-id-10 div.sk-toggleable__content pre {margin: 0.2em;color: black;border-radius: 0.25em;background-color: #f0f8ff;}#sk-container-id-10 input.sk-toggleable__control:checked~div.sk-toggleable__content {max-height: 200px;max-width: 100%;overflow: auto;}#sk-container-id-10 input.sk-toggleable__control:checked~label.sk-toggleable__label-arrow:before {content: \"▾\";}#sk-container-id-10 div.sk-estimator input.sk-toggleable__control:checked~label.sk-toggleable__label {background-color: #d4ebff;}#sk-container-id-10 div.sk-label input.sk-toggleable__control:checked~label.sk-toggleable__label {background-color: #d4ebff;}#sk-container-id-10 input.sk-hidden--visually {border: 0;clip: rect(1px 1px 1px 1px);clip: rect(1px, 1px, 1px, 1px);height: 1px;margin: -1px;overflow: hidden;padding: 0;position: absolute;width: 1px;}#sk-container-id-10 div.sk-estimator {font-family: monospace;background-color: #f0f8ff;border: 1px dotted black;border-radius: 0.25em;box-sizing: border-box;margin-bottom: 0.5em;}#sk-container-id-10 div.sk-estimator:hover {background-color: #d4ebff;}#sk-container-id-10 div.sk-parallel-item::after {content: \"\";width: 100%;border-bottom: 1px solid gray;flex-grow: 1;}#sk-container-id-10 div.sk-label:hover label.sk-toggleable__label {background-color: #d4ebff;}#sk-container-id-10 div.sk-serial::before {content: \"\";position: absolute;border-left: 1px solid gray;box-sizing: border-box;top: 0;bottom: 0;left: 50%;z-index: 0;}#sk-container-id-10 div.sk-serial {display: flex;flex-direction: column;align-items: center;background-color: white;padding-right: 0.2em;padding-left: 0.2em;position: relative;}#sk-container-id-10 div.sk-item {position: relative;z-index: 1;}#sk-container-id-10 div.sk-parallel {display: flex;align-items: stretch;justify-content: center;background-color: white;position: relative;}#sk-container-id-10 div.sk-item::before, #sk-container-id-10 div.sk-parallel-item::before {content: \"\";position: absolute;border-left: 1px solid gray;box-sizing: border-box;top: 0;bottom: 0;left: 50%;z-index: -1;}#sk-container-id-10 div.sk-parallel-item {display: flex;flex-direction: column;z-index: 1;position: relative;background-color: white;}#sk-container-id-10 div.sk-parallel-item:first-child::after {align-self: flex-end;width: 50%;}#sk-container-id-10 div.sk-parallel-item:last-child::after {align-self: flex-start;width: 50%;}#sk-container-id-10 div.sk-parallel-item:only-child::after {width: 0;}#sk-container-id-10 div.sk-dashed-wrapped {border: 1px dashed gray;margin: 0 0.4em 0.5em 0.4em;box-sizing: border-box;padding-bottom: 0.4em;background-color: white;}#sk-container-id-10 div.sk-label label {font-family: monospace;font-weight: bold;display: inline-block;line-height: 1.2em;}#sk-container-id-10 div.sk-label-container {text-align: center;}#sk-container-id-10 div.sk-container {/* jupyter's `normalize.less` sets `[hidden] { display: none; }` but bootstrap.min.css set `[hidden] { display: none !important; }` so we also need the `!important` here to be able to override the default hidden behavior on the sphinx rendered scikit-learn.org. See: https://github.com/scikit-learn/scikit-learn/issues/21755 */display: inline-block !important;position: relative;}#sk-container-id-10 div.sk-text-repr-fallback {display: none;}</style><div id=\"sk-container-id-10\" class=\"sk-top-container\"><div class=\"sk-text-repr-fallback\"><pre>LogisticRegression(max_iter=10000)</pre><b>In a Jupyter environment, please rerun this cell to show the HTML representation or trust the notebook. <br />On GitHub, the HTML representation is unable to render, please try loading this page with nbviewer.org.</b></div><div class=\"sk-container\" hidden><div class=\"sk-item\"><div class=\"sk-estimator sk-toggleable\"><input class=\"sk-toggleable__control sk-hidden--visually\" id=\"sk-estimator-id-10\" type=\"checkbox\" checked><label for=\"sk-estimator-id-10\" class=\"sk-toggleable__label sk-toggleable__label-arrow\">LogisticRegression</label><div class=\"sk-toggleable__content\"><pre>LogisticRegression(max_iter=10000)</pre></div></div></div></div></div>"
            ]
          },
          "metadata": {},
          "execution_count": 122
        }
      ]
    },
    {
      "cell_type": "code",
      "source": [
        "from sklearn.ensemble import GradientBoostingClassifier\n",
        "\n",
        "gradient_boosting_classifier_model = GradientBoostingClassifier()\n",
        "gradient_boosting_classifier_model.fit(X_train, y_train)"
      ],
      "metadata": {
        "colab": {
          "base_uri": "https://localhost:8080/",
          "height": 74
        },
        "id": "m-mUi-bYbt0S",
        "outputId": "f2303f32-3bdc-4073-fedf-85f9d2f2b8d7"
      },
      "execution_count": 123,
      "outputs": [
        {
          "output_type": "execute_result",
          "data": {
            "text/plain": [
              "GradientBoostingClassifier()"
            ],
            "text/html": [
              "<style>#sk-container-id-11 {color: black;background-color: white;}#sk-container-id-11 pre{padding: 0;}#sk-container-id-11 div.sk-toggleable {background-color: white;}#sk-container-id-11 label.sk-toggleable__label {cursor: pointer;display: block;width: 100%;margin-bottom: 0;padding: 0.3em;box-sizing: border-box;text-align: center;}#sk-container-id-11 label.sk-toggleable__label-arrow:before {content: \"▸\";float: left;margin-right: 0.25em;color: #696969;}#sk-container-id-11 label.sk-toggleable__label-arrow:hover:before {color: black;}#sk-container-id-11 div.sk-estimator:hover label.sk-toggleable__label-arrow:before {color: black;}#sk-container-id-11 div.sk-toggleable__content {max-height: 0;max-width: 0;overflow: hidden;text-align: left;background-color: #f0f8ff;}#sk-container-id-11 div.sk-toggleable__content pre {margin: 0.2em;color: black;border-radius: 0.25em;background-color: #f0f8ff;}#sk-container-id-11 input.sk-toggleable__control:checked~div.sk-toggleable__content {max-height: 200px;max-width: 100%;overflow: auto;}#sk-container-id-11 input.sk-toggleable__control:checked~label.sk-toggleable__label-arrow:before {content: \"▾\";}#sk-container-id-11 div.sk-estimator input.sk-toggleable__control:checked~label.sk-toggleable__label {background-color: #d4ebff;}#sk-container-id-11 div.sk-label input.sk-toggleable__control:checked~label.sk-toggleable__label {background-color: #d4ebff;}#sk-container-id-11 input.sk-hidden--visually {border: 0;clip: rect(1px 1px 1px 1px);clip: rect(1px, 1px, 1px, 1px);height: 1px;margin: -1px;overflow: hidden;padding: 0;position: absolute;width: 1px;}#sk-container-id-11 div.sk-estimator {font-family: monospace;background-color: #f0f8ff;border: 1px dotted black;border-radius: 0.25em;box-sizing: border-box;margin-bottom: 0.5em;}#sk-container-id-11 div.sk-estimator:hover {background-color: #d4ebff;}#sk-container-id-11 div.sk-parallel-item::after {content: \"\";width: 100%;border-bottom: 1px solid gray;flex-grow: 1;}#sk-container-id-11 div.sk-label:hover label.sk-toggleable__label {background-color: #d4ebff;}#sk-container-id-11 div.sk-serial::before {content: \"\";position: absolute;border-left: 1px solid gray;box-sizing: border-box;top: 0;bottom: 0;left: 50%;z-index: 0;}#sk-container-id-11 div.sk-serial {display: flex;flex-direction: column;align-items: center;background-color: white;padding-right: 0.2em;padding-left: 0.2em;position: relative;}#sk-container-id-11 div.sk-item {position: relative;z-index: 1;}#sk-container-id-11 div.sk-parallel {display: flex;align-items: stretch;justify-content: center;background-color: white;position: relative;}#sk-container-id-11 div.sk-item::before, #sk-container-id-11 div.sk-parallel-item::before {content: \"\";position: absolute;border-left: 1px solid gray;box-sizing: border-box;top: 0;bottom: 0;left: 50%;z-index: -1;}#sk-container-id-11 div.sk-parallel-item {display: flex;flex-direction: column;z-index: 1;position: relative;background-color: white;}#sk-container-id-11 div.sk-parallel-item:first-child::after {align-self: flex-end;width: 50%;}#sk-container-id-11 div.sk-parallel-item:last-child::after {align-self: flex-start;width: 50%;}#sk-container-id-11 div.sk-parallel-item:only-child::after {width: 0;}#sk-container-id-11 div.sk-dashed-wrapped {border: 1px dashed gray;margin: 0 0.4em 0.5em 0.4em;box-sizing: border-box;padding-bottom: 0.4em;background-color: white;}#sk-container-id-11 div.sk-label label {font-family: monospace;font-weight: bold;display: inline-block;line-height: 1.2em;}#sk-container-id-11 div.sk-label-container {text-align: center;}#sk-container-id-11 div.sk-container {/* jupyter's `normalize.less` sets `[hidden] { display: none; }` but bootstrap.min.css set `[hidden] { display: none !important; }` so we also need the `!important` here to be able to override the default hidden behavior on the sphinx rendered scikit-learn.org. See: https://github.com/scikit-learn/scikit-learn/issues/21755 */display: inline-block !important;position: relative;}#sk-container-id-11 div.sk-text-repr-fallback {display: none;}</style><div id=\"sk-container-id-11\" class=\"sk-top-container\"><div class=\"sk-text-repr-fallback\"><pre>GradientBoostingClassifier()</pre><b>In a Jupyter environment, please rerun this cell to show the HTML representation or trust the notebook. <br />On GitHub, the HTML representation is unable to render, please try loading this page with nbviewer.org.</b></div><div class=\"sk-container\" hidden><div class=\"sk-item\"><div class=\"sk-estimator sk-toggleable\"><input class=\"sk-toggleable__control sk-hidden--visually\" id=\"sk-estimator-id-11\" type=\"checkbox\" checked><label for=\"sk-estimator-id-11\" class=\"sk-toggleable__label sk-toggleable__label-arrow\">GradientBoostingClassifier</label><div class=\"sk-toggleable__content\"><pre>GradientBoostingClassifier()</pre></div></div></div></div></div>"
            ]
          },
          "metadata": {},
          "execution_count": 123
        }
      ]
    },
    {
      "cell_type": "markdown",
      "source": [
        "### **Результаты обучения**"
      ],
      "metadata": {
        "id": "pBcJr2bah1Hc"
      }
    },
    {
      "cell_type": "code",
      "source": [
        "# предсказание на тестовой выборке\n",
        "y_pred_lr = logistic_regression_model.predict(X_test)\n",
        "y_pred_gbc = gradient_boosting_classifier_model.predict(X_test)"
      ],
      "metadata": {
        "id": "HMJGErGEgrTb"
      },
      "execution_count": 124,
      "outputs": []
    },
    {
      "cell_type": "code",
      "source": [
        "from sklearn.metrics import accuracy_score, precision_score, recall_score, f1_score\n",
        "\n",
        "# оценка качества модели логистической регрессии\n",
        "print(\"Accuracy:\", accuracy_score(y_test, y_pred_lr))\n",
        "print(\"Precision:\", precision_score(y_test, y_pred_lr, average='weighted'))\n",
        "print(\"Recall:\", recall_score(y_test, y_pred_lr, average='weighted'))\n",
        "print(\"F1-score:\", f1_score(y_test, y_pred_lr, average='weighted'))"
      ],
      "metadata": {
        "colab": {
          "base_uri": "https://localhost:8080/"
        },
        "id": "hooI04LOg4sf",
        "outputId": "381faa7a-7b64-4fac-dfd5-26e0bf43ba38"
      },
      "execution_count": 125,
      "outputs": [
        {
          "output_type": "stream",
          "name": "stdout",
          "text": [
            "Accuracy: 0.9206349206349206\n",
            "Precision: 0.9071886064367266\n",
            "Recall: 0.9206349206349206\n",
            "F1-score: 0.9109832724290556\n"
          ]
        }
      ]
    },
    {
      "cell_type": "code",
      "source": [
        "from sklearn.metrics import ConfusionMatrixDisplay\n",
        "\n",
        "ConfusionMatrixDisplay.from_predictions(y_test, y_pred_lr, xticks_rotation='vertical')"
      ],
      "metadata": {
        "colab": {
          "base_uri": "https://localhost:8080/",
          "height": 467
        },
        "id": "JRS_XJtIh8PR",
        "outputId": "717f2e3f-c3a5-4633-c5ee-5a55593a00cc"
      },
      "execution_count": 126,
      "outputs": [
        {
          "output_type": "execute_result",
          "data": {
            "text/plain": [
              "<sklearn.metrics._plot.confusion_matrix.ConfusionMatrixDisplay at 0x7ba7256afd60>"
            ]
          },
          "metadata": {},
          "execution_count": 126
        },
        {
          "output_type": "display_data",
          "data": {
            "text/plain": [
              "<Figure size 640x480 with 2 Axes>"
            ],
            "image/png": "[encoded data removed]"
          },
          "metadata": {}
        }
      ]
    },
    {
      "cell_type": "code",
      "source": [
        "# оценка качества модели градиентного бустинга\n",
        "print(\"Accuracy:\", accuracy_score(y_test, y_pred_gbc))\n",
        "print(\"Precision:\", precision_score(y_test, y_pred_gbc, average='weighted'))\n",
        "print(\"Recall:\", recall_score(y_test, y_pred_gbc, average='weighted'))\n",
        "print(\"F1-score:\", f1_score(y_test, y_pred_gbc, average='weighted'))"
      ],
      "metadata": {
        "colab": {
          "base_uri": "https://localhost:8080/"
        },
        "id": "fA0E9RGZg5yS",
        "outputId": "ab68db8a-992c-48bc-ac84-34ccb869bf71"
      },
      "execution_count": 127,
      "outputs": [
        {
          "output_type": "stream",
          "name": "stdout",
          "text": [
            "Accuracy: 1.0\n",
            "Precision: 1.0\n",
            "Recall: 1.0\n",
            "F1-score: 1.0\n"
          ]
        }
      ]
    },
    {
      "cell_type": "code",
      "source": [
        "ConfusionMatrixDisplay.from_predictions(y_test, y_pred_gbc, xticks_rotation='vertical')"
      ],
      "metadata": {
        "colab": {
          "base_uri": "https://localhost:8080/",
          "height": 461
        },
        "id": "fOCY7pd0iC24",
        "outputId": "6a481fec-591b-40f0-e95a-4bc6d80b2fb0"
      },
      "execution_count": 128,
      "outputs": [
        {
          "output_type": "execute_result",
          "data": {
            "text/plain": [
              "<sklearn.metrics._plot.confusion_matrix.ConfusionMatrixDisplay at 0x7ba725965570>"
            ]
          },
          "metadata": {},
          "execution_count": 128
        },
        {
          "output_type": "display_data",
          "data": {
            "text/plain": [
              "<Figure size 640x480 with 2 Axes>"
            ],
            "image/png": "[encoded data removed]"
          },
          "metadata": {}
        }
      ]
    },
    {
      "cell_type": "markdown",
      "source": [
        "### **Выводы**"
      ],
      "metadata": {
        "id": "UR9kHKgKiarc"
      }
    },
    {
      "cell_type": "code",
      "source": [
        "Как видно, градиентный бустинг показывает идеальное значение по всем метрикам.\n",
        "Это означает, что модель идеально решает задачу классификации.\n",
        "\n",
        "Модель логистической регрессии тоже показывает отличные результаты, недалекие от идеальной классификации.\n",
        "\n",
        "На основании полученных результатов можно сделать вывод, что модель градиентного бустинга на этом наборе данных\n",
        "обеспечивает более высокие показатели метрик, чем модель логистической регрессии."
      ],
      "metadata": {
        "id": "36-_URV2icjC"
      },
      "execution_count": null,
      "outputs": []
    }
  ]
}